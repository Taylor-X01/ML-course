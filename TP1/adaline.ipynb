{
 "cells": [
  {
   "cell_type": "code",
   "execution_count": 7,
   "metadata": {
    "ExecuteTime": {
     "end_time": "2022-01-06T19:50:18.329794Z",
     "start_time": "2022-01-06T19:50:18.312652Z"
    }
   },
   "outputs": [],
   "source": [
    "import numpy as np"
   ]
  },
  {
   "cell_type": "markdown",
   "metadata": {},
   "source": [
    "\n",
    "<h3>Cost function\n",
    "<center>\n",
    "$\\hat{y} = w.x^T + b$                       Linear output\n",
    "<center> \n",
    "$J = \\frac{1}{2} \\sum_{i=1}^{n} (y - \\hat{y})$           Sum of Squares Error (SSE)\n",
    "\n"
   ]
  },
  {
   "cell_type": "code",
   "execution_count": 13,
   "metadata": {
    "ExecuteTime": {
     "end_time": "2022-01-06T19:51:40.784152Z",
     "start_time": "2022-01-06T19:51:40.776098Z"
    }
   },
   "outputs": [],
   "source": [
    "class Adaline:\n",
    "    def __init__(self, eps=0.01, max_iters=100):\n",
    "        self.eps = eps\n",
    "        self.best_params = None #??\n",
    "        self.loss = None\n",
    "        self.n_iters = None\n",
    "        self.activation_func=self._step_func\n",
    "        self.max_iters = max_iters\n",
    "        self.weights = None\n",
    "        self.bias= None\n",
    "\n",
    "    \n",
    "    def _step_func(self, X):\n",
    "        return np.where(X >= 0, 1, -1)\n",
    "    \n",
    "    def compute_loss(self, X, y, w, b):  # J = (y - y_hat).(y - y_hat).T\n",
    "        n = len(X)\n",
    "        S= np.dot(y - (np.dot(w, X.T) + b), (y - (np.dot(w, X.T) + b)).T)\n",
    "#         Ls = S\n",
    "        Ls = S / n\n",
    "\n",
    "        return Ls\n",
    "    \n",
    "    \n",
    "    def fit(self, X, y):\n",
    "        n_samples,n_features = X.shape\n",
    "        \n",
    "        # Init the weights and bias\n",
    "        self.weights=np.zeros(n_features)\n",
    "        self.bias=0\n",
    "\n",
    "        # Compute the loss function\n",
    "        loss = self.compute_loss(X, y, self.weights,self.bias)\n",
    "        n_iters = 0\n",
    "        \n",
    "        # Init losses list\n",
    "        losses = [loss]\n",
    "        while loss >= self.eps: # stop condition\n",
    "            \n",
    "            for i in range(n_samples):\n",
    "                # Compute the linear output y_hat\n",
    "                linear_output = np.dot(X[i], self.weights) + self.bias\n",
    "                \n",
    "                # Error = y_true - y_hat\n",
    "                e_i = y[i] - linear_output\n",
    "                \n",
    "                # Weight and bias update\n",
    "                if e_i != 0:\n",
    "                    self.weights = self.weights + self.eps * e_i * X[i]\n",
    "                    self.bias = self.bias + self.eps * e_i\n",
    "            loss = self.compute_loss(X, y, self.weights, self.bias)\n",
    "\n",
    "            losses.append(loss)\n",
    "\n",
    "            n_iters = n_iters + 1\n",
    "            if n_iters >= self.max_iters:\n",
    "                break     \n",
    "\n",
    "        self.loss = loss\n",
    "\n",
    "        self.n_iters = n_iters\n",
    "\n",
    "        return w\n",
    "    \n",
    "    def predict(self, X):\n",
    "        \n",
    "        linear_output = np.dot(X, self.weights) + self.bias\n",
    "        y_predicted = self.activation(linear_output)\n",
    "\n",
    "        return y_predicted"
   ]
  },
  {
   "cell_type": "code",
   "execution_count": null,
   "metadata": {},
   "outputs": [],
   "source": []
  }
 ],
 "metadata": {
  "kernelspec": {
   "display_name": "Python 3 (ipykernel)",
   "language": "python",
   "name": "python3"
  },
  "language_info": {
   "codemirror_mode": {
    "name": "ipython",
    "version": 3
   },
   "file_extension": ".py",
   "mimetype": "text/x-python",
   "name": "python",
   "nbconvert_exporter": "python",
   "pygments_lexer": "ipython3",
   "version": "3.9.4"
  },
  "latex_envs": {
   "LaTeX_envs_menu_present": true,
   "autoclose": false,
   "autocomplete": true,
   "bibliofile": "biblio.bib",
   "cite_by": "apalike",
   "current_citInitial": 1,
   "eqLabelWithNumbers": true,
   "eqNumInitial": 1,
   "hotkeys": {
    "equation": "Ctrl-E",
    "itemize": "Ctrl-I"
   },
   "labels_anchors": false,
   "latex_user_defs": false,
   "report_style_numbering": false,
   "user_envs_cfg": false
  },
  "varInspector": {
   "cols": {
    "lenName": 16,
    "lenType": 16,
    "lenVar": 40
   },
   "kernels_config": {
    "python": {
     "delete_cmd_postfix": "",
     "delete_cmd_prefix": "del ",
     "library": "var_list.py",
     "varRefreshCmd": "print(var_dic_list())"
    },
    "r": {
     "delete_cmd_postfix": ") ",
     "delete_cmd_prefix": "rm(",
     "library": "var_list.r",
     "varRefreshCmd": "cat(var_dic_list()) "
    }
   },
   "types_to_exclude": [
    "module",
    "function",
    "builtin_function_or_method",
    "instance",
    "_Feature"
   ],
   "window_display": false
  }
 },
 "nbformat": 4,
 "nbformat_minor": 4
}
