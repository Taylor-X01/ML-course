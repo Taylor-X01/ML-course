{
 "cells": [
  {
   "cell_type": "code",
   "execution_count": 1,
   "metadata": {
    "ExecuteTime": {
     "end_time": "2021-11-13T14:05:46.811171Z",
     "start_time": "2021-11-13T14:05:46.802169Z"
    }
   },
   "outputs": [],
   "source": [
    "import numpy as np"
   ]
  },
  {
   "cell_type": "code",
   "execution_count": 2,
   "metadata": {
    "ExecuteTime": {
     "end_time": "2021-11-13T14:05:48.080509Z",
     "start_time": "2021-11-13T14:05:48.065508Z"
    },
    "code_folding": [
     1
    ]
   },
   "outputs": [],
   "source": [
    "class Pocket:\n",
    "    def __init__(self, eps=0.01, max_iters=100):\n",
    "        self.eps = eps\n",
    "        self.best_params = None\n",
    "        self.loss = None\n",
    "        self.n_iters = None\n",
    "        self.activation_func=self._step_func\n",
    "        self.max_iters = max_iters\n",
    "        self.weights = None\n",
    "        self.bias= None\n",
    "\n",
    "    \n",
    "    def _step_func(self, X):\n",
    "        return np.where(X >= 0, 1, -1)\n",
    "    \n",
    "    def compute_loss(self, X, y, w, b):\n",
    "        n = len(X)\n",
    "        S = 0\n",
    "\n",
    "        for i in range(n):\n",
    "\n",
    "            linear_output = np.dot(X[i], w) + b\n",
    "            y_predicted =self.activation_func(linear_output)\n",
    "            if y_predicted != y[i]:\n",
    "                S += 1\n",
    "\n",
    "        Ls = S / n\n",
    "\n",
    "        return Ls\n",
    "    \n",
    "    \n",
    "    def fit(self, X, y):\n",
    "        n_samples,n_features = X.shape\n",
    "        self.weights=np.zeros(n_features)\n",
    "        self.bias=0\n",
    "        w0=np.zeros(n_features)\n",
    "        b0=0\n",
    "\n",
    "        loss1 = self.compute_loss(X, y, w0,b0)\n",
    "        n_iters = 0\n",
    "        losses = [loss1]\n",
    "\n",
    "        while loss >= self.eps:\n",
    "            \n",
    "            for i in range(n_samples):\n",
    "                linear_output = np.dot(X[i], self.weights) + self.bias\n",
    "                if self.activation_func(linear_output) * y[i] < 0:\n",
    "                    self.weights = self.weights + y[i] * X[i]\n",
    "                    self.bias = self.bias + y[i]\n",
    "\n",
    "            loss = self.compute_loss(X, y, self.weights, self.bias )\n",
    "            loss1 = self.compute_loss(X, y, w0, b0)\n",
    "            if loss < loss1:\n",
    "                w0 = w\n",
    "                b0 = b\n",
    "                loss1 = loss\n",
    "\n",
    "\n",
    "            losses.append(loss1)\n",
    "\n",
    "            n_iters = n_iters + 1\n",
    "            if n_iters >= self.max_iters:\n",
    "                break\n",
    "\n",
    "        self.loss = loss1\n",
    "\n",
    "        self.n_iters = n_iters\n",
    "\n",
    "        return losses\n",
    "    \n",
    "    def predict(self, X):\n",
    "        linear_output= np.dot(X, self.weights)+self.bias\n",
    "        y_predicted= self.activation_func(linear_output)\n",
    "        return y_predicted"
   ]
  }
 ],
 "metadata": {
  "kernelspec": {
   "display_name": "Python 3",
   "language": "python",
   "name": "python3"
  },
  "language_info": {
   "codemirror_mode": {
    "name": "ipython",
    "version": 3
   },
   "file_extension": ".py",
   "mimetype": "text/x-python",
   "name": "python",
   "nbconvert_exporter": "python",
   "pygments_lexer": "ipython3",
   "version": "3.8.3"
  },
  "varInspector": {
   "cols": {
    "lenName": 16,
    "lenType": 16,
    "lenVar": 40
   },
   "kernels_config": {
    "python": {
     "delete_cmd_postfix": "",
     "delete_cmd_prefix": "del ",
     "library": "var_list.py",
     "varRefreshCmd": "print(var_dic_list())"
    },
    "r": {
     "delete_cmd_postfix": ") ",
     "delete_cmd_prefix": "rm(",
     "library": "var_list.r",
     "varRefreshCmd": "cat(var_dic_list()) "
    }
   },
   "types_to_exclude": [
    "module",
    "function",
    "builtin_function_or_method",
    "instance",
    "_Feature"
   ],
   "window_display": false
  }
 },
 "nbformat": 4,
 "nbformat_minor": 4
}
